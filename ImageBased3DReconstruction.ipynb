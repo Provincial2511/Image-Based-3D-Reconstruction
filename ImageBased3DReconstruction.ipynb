{
 "cells": [
  {
   "cell_type": "code",
   "execution_count": 1,
   "metadata": {
    "execution": {
     "iopub.execute_input": "2025-05-15T17:25:47.672684Z",
     "iopub.status.busy": "2025-05-15T17:25:47.671415Z",
     "iopub.status.idle": "2025-05-15T17:25:47.700213Z",
     "shell.execute_reply": "2025-05-15T17:25:47.698598Z",
     "shell.execute_reply.started": "2025-05-15T17:25:47.672572Z"
    },
    "tags": []
   },
   "outputs": [],
   "source": [
    "# %pip install open3d -q\n",
    "# %pip install numpy-stl -q\n",
    "# %pip install timm -q"
   ]
  },
  {
   "cell_type": "code",
   "execution_count": 7,
   "metadata": {
    "execution": {
     "iopub.execute_input": "2025-05-15T17:29:30.474946Z",
     "iopub.status.busy": "2025-05-15T17:29:30.473122Z",
     "iopub.status.idle": "2025-05-15T17:29:30.512110Z",
     "shell.execute_reply": "2025-05-15T17:29:30.510501Z",
     "shell.execute_reply.started": "2025-05-15T17:29:30.474868Z"
    },
    "tags": []
   },
   "outputs": [],
   "source": [
    "import os\n",
    "import zipfile\n",
    "from glob import glob\n",
    "\n",
    "import numpy as np\n",
    "from sklearn.model_selection import train_test_split\n",
    "\n",
    "import torch\n",
    "import torch.nn as nn\n",
    "import torch.nn.functional as F\n",
    "import torch.optim as optim\n",
    "from torch.utils.data import Dataset, DataLoader\n",
    "from torchvision import transforms\n",
    "\n",
    "import cv2\n",
    "import open3d as o3d\n",
    "from skimage.measure import marching_cubes\n",
    "from PIL import Image\n",
    "from stl import mesh\n",
    "\n",
    "import matplotlib.pyplot as plt\n",
    "from mpl_toolkits import mplot3d\n",
    "from mpl_toolkits.mplot3d import Axes3D\n",
    "from matplotlib import pyplot\n",
    "from matplotlib.colors import LightSource\n",
    "import seaborn as sns\n",
    "\n",
    "import timm\n",
    "from tqdm import tqdm\n",
    "import glob\n",
    "\n",
    "plt.style.use('default')"
   ]
  },
  {
   "cell_type": "code",
   "execution_count": 8,
   "metadata": {
    "execution": {
     "iopub.execute_input": "2025-05-15T17:29:31.732188Z",
     "iopub.status.busy": "2025-05-15T17:29:31.729913Z",
     "iopub.status.idle": "2025-05-15T17:29:31.767097Z",
     "shell.execute_reply": "2025-05-15T17:29:31.765323Z",
     "shell.execute_reply.started": "2025-05-15T17:29:31.732111Z"
    },
    "tags": []
   },
   "outputs": [
    {
     "data": {
      "text/plain": [
       "device(type='cuda')"
      ]
     },
     "execution_count": 8,
     "metadata": {},
     "output_type": "execute_result"
    }
   ],
   "source": [
    "device = torch.device('cuda' if torch.cuda.is_available() else 'cpu')\n",
    "device"
   ]
  },
  {
   "cell_type": "code",
   "execution_count": 9,
   "metadata": {
    "execution": {
     "iopub.execute_input": "2025-05-15T17:29:32.724482Z",
     "iopub.status.busy": "2025-05-15T17:29:32.722524Z",
     "iopub.status.idle": "2025-05-15T17:29:58.238961Z",
     "shell.execute_reply": "2025-05-15T17:29:58.237430Z",
     "shell.execute_reply.started": "2025-05-15T17:29:32.724399Z"
    },
    "tags": []
   },
   "outputs": [
    {
     "name": "stdout",
     "output_type": "stream",
     "text": [
      "Архив распакован в '/home/jupyter/datasphere/project/iTMO/extracted_data'\n"
     ]
    }
   ],
   "source": [
    "base_path = '/home/jupyter/datasphere/project/iTMO'\n",
    "\n",
    "archive_file = os.path.join(base_path, 'dataset.zip')\n",
    "extract_dir = os.path.join(base_path, 'extracted_data') \n",
    "\n",
    "if not os.path.exists(extract_dir):\n",
    "    os.makedirs(extract_dir)\n",
    "\n",
    "with zipfile.ZipFile(archive_file, 'r') as zf:\n",
    "    zf.extractall(path=extract_dir)\n",
    "\n",
    "print(f\"Архив распакован в '{extract_dir}'\")"
   ]
  },
  {
   "cell_type": "code",
   "execution_count": 10,
   "metadata": {
    "execution": {
     "iopub.execute_input": "2025-05-15T17:29:58.243104Z",
     "iopub.status.busy": "2025-05-15T17:29:58.241564Z",
     "iopub.status.idle": "2025-05-15T17:29:58.352278Z",
     "shell.execute_reply": "2025-05-15T17:29:58.350325Z",
     "shell.execute_reply.started": "2025-05-15T17:29:58.243024Z"
    },
    "tags": []
   },
   "outputs": [
    {
     "name": "stdout",
     "output_type": "stream",
     "text": [
      "Найдено 561 пар\n"
     ]
    }
   ],
   "source": [
    "extract_dir = os.path.join('/home/jupyter/datasphere/project/iTMO', 'extracted_data', 'dataset')\n",
    "\n",
    "all_png = glob.glob(os.path.join(extract_dir, '**', '*.png'), recursive=True)\n",
    "all_stl = glob.glob(os.path.join(extract_dir, '**', '*.stl'), recursive=True)\n",
    "\n",
    "png_bases = {os.path.splitext(os.path.basename(p))[0] for p in all_png}\n",
    "stl_bases = {os.path.splitext(os.path.basename(s))[0] for s in all_stl}\n",
    "\n",
    "common_bases = sorted(list(png_bases.intersection(stl_bases)))\n",
    "\n",
    "paired_png_paths = [os.path.join(extract_dir, f\"{base}.png\") for base in common_bases]\n",
    "paired_stl_paths = [os.path.join(extract_dir, f\"{base}.stl\") for base in common_bases]\n",
    "\n",
    "print(f\"Найдено {len(common_bases)} пар\")\n"
   ]
  },
  {
   "cell_type": "code",
   "execution_count": 11,
   "metadata": {
    "execution": {
     "iopub.execute_input": "2025-05-15T17:30:11.726705Z",
     "iopub.status.busy": "2025-05-15T17:30:11.725129Z",
     "iopub.status.idle": "2025-05-15T17:30:11.784961Z",
     "shell.execute_reply": "2025-05-15T17:30:11.783102Z",
     "shell.execute_reply.started": "2025-05-15T17:30:11.726631Z"
    },
    "tags": []
   },
   "outputs": [],
   "source": [
    "class VoxelDataset(Dataset):\n",
    "    def __init__(self, png_paths, stl_paths, grid_size=64, image_size=(256, 256), augment=False):\n",
    "        self.png_paths = png_paths\n",
    "        self.stl_paths = stl_paths\n",
    "        self.grid_size = grid_size\n",
    "        self.image_height = image_size[0]\n",
    "        self.image_width = image_size[1]\n",
    "        self.augment = augment\n",
    "\n",
    "        self.image_transforms = transforms.Compose([\n",
    "            transforms.RandomApply([\n",
    "                transforms.ColorJitter(brightness=0.2, contrast=0.2),\n",
    "                transforms.RandomAffine(degrees=10, translate=(0.1, 0.1)),\n",
    "                transforms.RandomHorizontalFlip(p=0.5),\n",
    "                transforms.GaussianBlur(kernel_size=3),\n",
    "            ], p=0.7 if augment else 0),\n",
    "            transforms.Normalize(mean=[0.5], std=[0.5])\n",
    "        ])\n",
    "\n",
    "    def __len__(self):\n",
    "        return len(self.png_paths)\n",
    "\n",
    "    def __getitem__(self, idx):\n",
    "        image = cv2.imread(self.png_paths[idx], cv2.IMREAD_GRAYSCALE)\n",
    "        image = cv2.resize(image, (self.image_width, self.image_height))\n",
    "        image = torch.from_numpy(image.astype(np.float32) / 255.0).unsqueeze(0)\n",
    "        \n",
    "        if self.augment:\n",
    "            image = self.image_transforms(image)\n",
    "\n",
    "        # Загрузка и обработка меша\n",
    "        mesh = o3d.io.read_triangle_mesh(self.stl_paths[idx])\n",
    "        if mesh.has_vertices():\n",
    "            bbox = mesh.get_axis_aligned_bounding_box()\n",
    "            mesh.translate(-bbox.get_center())\n",
    "            mesh.scale(1.0 / np.max(bbox.get_extent()), center=np.zeros(3))\n",
    "\n",
    "        # Вокселизация\n",
    "        voxels = self._mesh_to_voxels(mesh)\n",
    "        return image, voxels, idx\n",
    "\n",
    "    def _mesh_to_voxels(self, mesh):\n",
    "        if not mesh.has_triangles():\n",
    "            return torch.zeros((self.grid_size, self.grid_size, self.grid_size))\n",
    "\n",
    "        voxel_grid = o3d.geometry.VoxelGrid.create_from_triangle_mesh(\n",
    "            mesh, \n",
    "            voxel_size=2.0 / self.grid_size\n",
    "        )\n",
    "\n",
    "        voxels = np.zeros((self.grid_size, self.grid_size, self.grid_size))\n",
    "        for voxel in voxel_grid.get_voxels():\n",
    "            i, j, k = voxel.grid_index\n",
    "            if 0 <= i < self.grid_size and 0 <= j < self.grid_size and 0 <= k < self.grid_size:\n",
    "                voxels[i, j, k] = 1.0\n",
    "\n",
    "        return torch.from_numpy(voxels).float()"
   ]
  },
  {
   "cell_type": "code",
   "execution_count": 12,
   "metadata": {
    "execution": {
     "iopub.execute_input": "2025-05-15T17:30:13.386955Z",
     "iopub.status.busy": "2025-05-15T17:30:13.385379Z",
     "iopub.status.idle": "2025-05-15T17:30:13.422659Z",
     "shell.execute_reply": "2025-05-15T17:30:13.421057Z",
     "shell.execute_reply.started": "2025-05-15T17:30:13.386889Z"
    },
    "tags": []
   },
   "outputs": [
    {
     "name": "stdout",
     "output_type": "stream",
     "text": [
      "Train: 336, Val: 112, Test: 113\n"
     ]
    }
   ],
   "source": [
    "trainval_png, test_png, trainval_stl, test_stl = train_test_split(\n",
    "    paired_png_paths,\n",
    "    paired_stl_paths,\n",
    "    test_size=0.2,\n",
    "    random_state=42\n",
    ")\n",
    "\n",
    "train_png, val_png, train_stl, val_stl = train_test_split(\n",
    "    trainval_png,\n",
    "    trainval_stl,\n",
    "    test_size=0.25,\n",
    "    random_state=42\n",
    ")\n",
    "\n",
    "print(f\"Train: {len(train_png)}, Val: {len(val_png)}, Test: {len(test_png)}\")"
   ]
  },
  {
   "cell_type": "code",
   "execution_count": 14,
   "metadata": {
    "execution": {
     "iopub.execute_input": "2025-05-15T17:30:28.023195Z",
     "iopub.status.busy": "2025-05-15T17:30:28.022231Z",
     "iopub.status.idle": "2025-05-15T17:30:28.086050Z",
     "shell.execute_reply": "2025-05-15T17:30:28.084275Z",
     "shell.execute_reply.started": "2025-05-15T17:30:28.023139Z"
    },
    "tags": []
   },
   "outputs": [],
   "source": [
    "GRID_SIZE = 32\n",
    "BATCH_SIZE = 32\n",
    "\n",
    "train_dataset = VoxelDataset(\n",
    "    train_png, \n",
    "    train_stl, \n",
    "    grid_size=GRID_SIZE,\n",
    "    augment=True\n",
    ")\n",
    "\n",
    "val_dataset = VoxelDataset(\n",
    "    val_png, \n",
    "    val_stl, \n",
    "    grid_size=GRID_SIZE,\n",
    "    augment=False\n",
    ")\n",
    "\n",
    "test_dataset = VoxelDataset(\n",
    "    test_png, \n",
    "    test_stl, \n",
    "    grid_size=GRID_SIZE,\n",
    "    augment=False\n",
    ")\n",
    "\n",
    "# Даталоадеры\n",
    "train_loader = DataLoader(\n",
    "    train_dataset,\n",
    "    batch_size=BATCH_SIZE,\n",
    "    shuffle=True,\n",
    "    pin_memory=True\n",
    ")\n",
    "\n",
    "val_loader = DataLoader(\n",
    "    val_dataset,\n",
    "    batch_size=BATCH_SIZE,\n",
    "    shuffle=False,\n",
    "    pin_memory=True\n",
    ")\n",
    "\n",
    "test_loader = DataLoader(\n",
    "    test_dataset,\n",
    "    batch_size=BATCH_SIZE,\n",
    "    shuffle=False,\n",
    "    pin_memory=True\n",
    ")"
   ]
  },
  {
   "cell_type": "code",
   "execution_count": null,
   "metadata": {
    "execution": {
     "iopub.execute_input": "2025-05-15T17:30:29.526634Z",
     "iopub.status.busy": "2025-05-15T17:30:29.524918Z",
     "iopub.status.idle": "2025-05-15T17:30:29.555566Z",
     "shell.execute_reply": "2025-05-15T17:30:29.554256Z",
     "shell.execute_reply.started": "2025-05-15T17:30:29.526558Z"
    },
    "tags": []
   },
   "outputs": [],
   "source": [
    "class EnhancedEncoder(nn.Module):\n",
    "    def __init__(self, model_name='swinv2_tiny_window16_256.ms_in1k', pretrained=True,\n",
    "                 out_indices=(0, 1, 2, 3), return_skips=True,\n",
    "                 projected_main_channels=1024,\n",
    "                 skip_projection_channels=(64, 128, 256)):\n",
    "        super().__init__()\n",
    "        self.return_skips = return_skips\n",
    "\n",
    "        if self.return_skips:\n",
    "            if len(out_indices) < 2:\n",
    "                raise ValueError(\"out_indices должен содержать >= 2 индексов.\")\n",
    "            if len(skip_projection_channels) != (len(out_indices) - 1):\n",
    "                raise ValueError(f\"Длина skip_projection_channels не соответствует количеству skip-уровней.\")\n",
    "            self.actual_out_indices = out_indices\n",
    "        else:\n",
    "            self.actual_out_indices = (out_indices[-1],)\n",
    "\n",
    "        self.backbone = timm.create_model(\n",
    "            model_name, pretrained=pretrained, features_only=True, out_indices=self.actual_out_indices\n",
    "        )\n",
    "        feature_info_list = self.backbone.feature_info\n",
    "\n",
    "        self.num_main_features_in = feature_info_list[-1]['num_chs']\n",
    "        self.proj_main = nn.Conv2d(self.num_main_features_in, projected_main_channels, kernel_size=1)\n",
    "\n",
    "        if self.return_skips:\n",
    "            self.skip_projs = nn.ModuleList()\n",
    "            skip_feature_info_list = feature_info_list[:-1]\n",
    "            for i in range(len(skip_feature_info_list)):\n",
    "                self.skip_projs.append(\n",
    "                    nn.Conv2d(skip_feature_info_list[i]['num_chs'], skip_projection_channels[i], kernel_size=1)\n",
    "                )\n",
    "\n",
    "    def _to_bchw(self, feature_map, num_expected_channels):\n",
    "        if feature_map.dim() == 4:\n",
    "            if feature_map.shape[1] != num_expected_channels and feature_map.shape[3] == num_expected_channels:\n",
    "                return feature_map.permute(0, 3, 1, 2)\n",
    "            elif feature_map.shape[1] == num_expected_channels:\n",
    "                return feature_map\n",
    "        raise ValueError(f\"Неожиданная форма карты признаков: {feature_map.shape} или кол-во каналов ({num_expected_channels} ожидалось).\")\n",
    "\n",
    "\n",
    "    def forward(self, x):\n",
    "        if x.size(1) == 1: x = x.expand(-1, 3, -1, -1)\n",
    "        features_list_raw = self.backbone(x)\n",
    "        if not isinstance(features_list_raw, (list, tuple)): features_list_raw = [features_list_raw]\n",
    "\n",
    "        main_features_raw = features_list_raw[-1]\n",
    "        main_features_bchw = self._to_bchw(main_features_raw, self.num_main_features_in)\n",
    "        main_features_projected = self.proj_main(main_features_bchw)\n",
    "\n",
    "        if self.return_skips:\n",
    "            processed_skip_features = []\n",
    "            raw_skips = features_list_raw[:-1]\n",
    "            for i, skip_raw in enumerate(raw_skips):\n",
    "                expected_skip_channels = self.backbone.feature_info[i]['num_chs']\n",
    "                skip_bchw = self._to_bchw(skip_raw, expected_skip_channels)\n",
    "                skip_projected = self.skip_projs[i](skip_bchw)\n",
    "                processed_skip_features.append(skip_projected)\n",
    "            return main_features_projected, processed_skip_features\n",
    "        else:\n",
    "            return main_features_projected"
   ]
  },
  {
   "cell_type": "code",
   "execution_count": 16,
   "metadata": {
    "execution": {
     "iopub.execute_input": "2025-05-15T17:30:30.872958Z",
     "iopub.status.busy": "2025-05-15T17:30:30.871861Z",
     "iopub.status.idle": "2025-05-15T17:30:37.460243Z",
     "shell.execute_reply": "2025-05-15T17:30:37.458418Z",
     "shell.execute_reply.started": "2025-05-15T17:30:30.872900Z"
    },
    "tags": []
   },
   "outputs": [
    {
     "name": "stdout",
     "output_type": "stream",
     "text": [
      "\n",
      "Main features shape: torch.Size([1, 1024, 8, 8])\n",
      "Skip 0 shape: torch.Size([1, 64, 64, 64])\n",
      "Skip 1 shape: torch.Size([1, 128, 32, 32])\n",
      "Skip 2 shape: torch.Size([1, 256, 16, 16])\n"
     ]
    }
   ],
   "source": [
    "# Тест для skip-connection\n",
    "encoder = EnhancedEncoder(return_skips=True)\n",
    "dummy_input = torch.randn(1, 1, 256, 256)\n",
    "features, skips = encoder(dummy_input)\n",
    "print(\"\\nMain features shape:\", features.shape)\n",
    "for i, skip in enumerate(skips):\n",
    "    print(f\"Skip {i} shape:\", skip.shape)"
   ]
  },
  {
   "cell_type": "code",
   "execution_count": null,
   "metadata": {
    "execution": {
     "iopub.execute_input": "2025-05-15T17:30:38.899888Z",
     "iopub.status.busy": "2025-05-15T17:30:38.898090Z",
     "iopub.status.idle": "2025-05-15T17:30:54.806168Z",
     "shell.execute_reply": "2025-05-15T17:30:54.804478Z",
     "shell.execute_reply.started": "2025-05-15T17:30:38.899804Z"
    },
    "tags": []
   },
   "outputs": [
    {
     "name": "stdout",
     "output_type": "stream",
     "text": [
      "Анализ распределения классов в train_dataset...\n"
     ]
    },
    {
     "name": "stderr",
     "output_type": "stream",
     "text": [
      "Checking dataset samples: 100%|██████████| 336/336 [00:15<00:00, 21.18it/s]"
     ]
    },
    {
     "name": "stdout",
     "output_type": "stream",
     "text": [
      "\n",
      "Анализ всего train_dataset:\n",
      "  Общее количество вокселей: 11010048\n",
      "  Количество положительных вокселей (объектов): 283329.0\n",
      "  Доля положительных вокселей (Positive ratio): 0.025734\n"
     ]
    },
    {
     "name": "stderr",
     "output_type": "stream",
     "text": [
      "\n"
     ]
    }
   ],
   "source": [
    "print(\"Анализ распределения классов в train_dataset\")\n",
    "total_voxels = 0\n",
    "positive_voxels = 0\n",
    "\n",
    "\n",
    "for i in tqdm(range(len(train_dataset)), desc=\"Checking dataset samples\"):\n",
    "    _, voxel_target, _ = train_dataset[i]\n",
    "    \n",
    "    positive_voxels += voxel_target.sum().item()\n",
    "    total_voxels += voxel_target.numel()\n",
    "\n",
    "if total_voxels > 0:\n",
    "    positive_ratio_dataset = positive_voxels / total_voxels\n",
    "    print(f\"\\nАнализ всего train_dataset:\")\n",
    "    print(f\"  Общее количество вокселей: {total_voxels}\")\n",
    "    print(f\"  Количество положительных вокселей (объектов): {positive_voxels}\")\n",
    "    print(f\"  Доля положительных вокселей (Positive ratio): {positive_ratio_dataset:.6f}\")\n",
    "else:\n",
    "    print(\"Датасет пуст или не удалось обработать.\")\n"
   ]
  },
  {
   "cell_type": "code",
   "execution_count": null,
   "metadata": {
    "execution": {
     "iopub.execute_input": "2025-05-15T17:30:57.657288Z",
     "iopub.status.busy": "2025-05-15T17:30:57.655701Z",
     "iopub.status.idle": "2025-05-15T17:30:57.698073Z",
     "shell.execute_reply": "2025-05-15T17:30:57.696489Z",
     "shell.execute_reply.started": "2025-05-15T17:30:57.657213Z"
    },
    "tags": []
   },
   "outputs": [],
   "source": [
    "class VoxelDecoder(nn.Module):\n",
    "    def __init__(self, grid_size=32, in_encoder_channels=1024,\n",
    "                 start_3d_channels=256, start_3d_depth=4,\n",
    "                 skip_channels_from_encoder=None,\n",
    "                 decoder_skip_proj_channels=(32, 64, 128),\n",
    "                 dropout_p_decoder=0.1\n",
    "                 ):\n",
    "        super().__init__()\n",
    "        self.grid_size = grid_size\n",
    "        self.start_3d_depth = start_3d_depth\n",
    "        self.start_3d_channels = start_3d_channels\n",
    "        self.use_skips = skip_channels_from_encoder is not None\n",
    "\n",
    "        self.prepare_3d = nn.Sequential(\n",
    "            nn.Conv2d(in_encoder_channels, self.start_3d_channels * self.start_3d_depth,\n",
    "                      kernel_size=3, stride=2, padding=1, bias=False),\n",
    "            nn.BatchNorm2d(self.start_3d_channels * self.start_3d_depth),\n",
    "            nn.ReLU(inplace=True)\n",
    "        )\n",
    "\n",
    "        up_block_out_channels = [128, 64, 32]\n",
    "        main_flow_in_channels = [self.start_3d_channels] + up_block_out_channels[:-1]\n",
    "\n",
    "        self.up_blocks = nn.ModuleList()\n",
    "        if self.use_skips:\n",
    "            if len(skip_channels_from_encoder) != len(up_block_out_channels) or \\\n",
    "               len(decoder_skip_proj_channels) != len(up_block_out_channels):\n",
    "                raise ValueError(\"Размеры списков каналов для skip-соединений не совпадают с количеством up_blocks.\")\n",
    "            \n",
    "            self.skip_projs_decoder = nn.ModuleList()\n",
    "\n",
    "            _skip_channels_from_encoder_rev = skip_channels_from_encoder[::-1]\n",
    "            _decoder_skip_proj_channels_rev = decoder_skip_proj_channels[::-1]\n",
    "\n",
    "            for i in range(len(up_block_out_channels)):\n",
    "                self.skip_projs_decoder.append(\n",
    "                    nn.Conv2d(_skip_channels_from_encoder_rev[i], _decoder_skip_proj_channels_rev[i], kernel_size=1)\n",
    "                )\n",
    "                # Входной канал для ResidualUpsampleBlock = основной поток + спроецированный skip\n",
    "                block_in_ch = main_flow_in_channels[i] + _decoder_skip_proj_channels_rev[i]\n",
    "                self.up_blocks.append(ResidualUpsampleBlock(block_in_ch, up_block_out_channels[i], dropout_p_decoder))\n",
    "        else:\n",
    "            for i in range(len(up_block_out_channels)):\n",
    "                self.up_blocks.append(ResidualUpsampleBlock(main_flow_in_channels[i], up_block_out_channels[i], dropout_p_decoder))\n",
    "\n",
    "        self.final_conv = nn.Sequential(\n",
    "            nn.Conv3d(up_block_out_channels[-1], 16, kernel_size=3, padding=1, bias=False),\n",
    "            nn.BatchNorm3d(16),\n",
    "            nn.ReLU(inplace=True),\n",
    "            nn.Conv3d(16, 1, kernel_size=1)\n",
    "        )\n",
    "\n",
    "    def _interpolate_and_repeat_skip(self, skip_2d_projected, target_3d_shape_bchwd):\n",
    "        B, _, D_target, H_target, W_target = target_3d_shape_bchwd\n",
    "        \n",
    "        # Интерполируем H, W skip-фичи\n",
    "        skip_2d_resized = F.interpolate(skip_2d_projected, size=(H_target, W_target), mode='bilinear', align_corners=False)\n",
    "        # Раздуваем до 3D\n",
    "        skip_3d = skip_2d_resized.unsqueeze(2).repeat(1, 1, D_target, 1, 1)\n",
    "        return skip_3d\n",
    "\n",
    "    def forward(self, x_main, skip_features_list=None):\n",
    "        x = self.prepare_3d(x_main)\n",
    "        B, C_prep, H_prep, W_prep = x.shape\n",
    "        x = x.view(B, self.start_3d_channels, self.start_3d_depth, H_prep, W_prep)\n",
    "\n",
    "        current_main_flow = x\n",
    "        if self.use_skips and skip_features_list is not None:\n",
    "            _skip_features_list_rev = skip_features_list[::-1]\n",
    "\n",
    "            for i in range(len(self.up_blocks)):\n",
    "                skip_2d_raw = _skip_features_list_rev[i]\n",
    "                skip_2d_projected_in_decoder = self.skip_projs_decoder[i](skip_2d_raw)\n",
    "                \n",
    "                skip_3d_aligned = self._interpolate_and_repeat_skip(\n",
    "                    skip_2d_projected_in_decoder,\n",
    "                    current_main_flow.shape\n",
    "                )\n",
    "                \n",
    "                concatenated_input = torch.cat((current_main_flow, skip_3d_aligned), dim=1)\n",
    "                current_main_flow = self.up_blocks[i](concatenated_input)\n",
    "        else:\n",
    "            for block in self.up_blocks:\n",
    "                current_main_flow = block(current_main_flow)\n",
    "        \n",
    "        output_logits = self.final_conv(current_main_flow)\n",
    "        return output_logits\n",
    "\n",
    "\n",
    "class ResidualUpsampleBlock(nn.Module):\n",
    "    def __init__(self, in_ch, out_ch, dropout_p=0.2):\n",
    "        super().__init__()\n",
    "        self.conv = nn.Sequential(\n",
    "            nn.ConvTranspose3d(in_ch, out_ch, kernel_size=4, stride=2, padding=1, bias=False),\n",
    "            nn.BatchNorm3d(out_ch),\n",
    "            nn.ReLU(inplace=True),\n",
    "            nn.Dropout3d(dropout_p),\n",
    "            nn.Conv3d(out_ch, out_ch, kernel_size=3, padding=1, bias=False),\n",
    "            nn.BatchNorm3d(out_ch)\n",
    "        )\n",
    "        self.shortcut = nn.ConvTranspose3d(in_ch, out_ch, kernel_size=4, stride=2, padding=1, bias=False)\n",
    "        self.alpha = nn.Parameter(torch.tensor(0.5))\n",
    "\n",
    "    def forward(self, x):\n",
    "        return F.relu(self.alpha * self.conv(x) + (1 - self.alpha) * self.shortcut(x), inplace=True)"
   ]
  },
  {
   "cell_type": "code",
   "execution_count": null,
   "metadata": {
    "execution": {
     "iopub.execute_input": "2025-05-15T17:31:00.588299Z",
     "iopub.status.busy": "2025-05-15T17:31:00.586705Z",
     "iopub.status.idle": "2025-05-15T17:31:00.646530Z",
     "shell.execute_reply": "2025-05-15T17:31:00.644842Z",
     "shell.execute_reply.started": "2025-05-15T17:31:00.588212Z"
    },
    "tags": []
   },
   "outputs": [],
   "source": [
    "class AdvancedVoxelNet(nn.Module):\n",
    "    def __init__(self, grid_size=32, use_skip_connections=True,\n",
    "                 encoder_model_name='swinv2_tiny_window16_256.ms_in1k',\n",
    "                 encoder_pretrained=True,\n",
    "                 encoder_out_indices=(0, 1, 2, 3),\n",
    "                 encoder_projected_main_channels=1024,\n",
    "                 encoder_skip_projection_channels=(64, 128, 256),\n",
    "                 decoder_start_3d_channels=256,\n",
    "                 decoder_start_3d_depth=4,\n",
    "                 decoder_projection_channels_for_skips=(32, 64, 128),\n",
    "                 decoder_dropout_p=0.1\n",
    "                 ):\n",
    "        super().__init__()\n",
    "        self.grid_size = grid_size\n",
    "        self.use_skip_connections = use_skip_connections\n",
    "\n",
    "        self.encoder = EnhancedEncoder(\n",
    "            model_name=encoder_model_name, pretrained=encoder_pretrained,\n",
    "            out_indices=encoder_out_indices, return_skips=self.use_skip_connections,\n",
    "            projected_main_channels=encoder_projected_main_channels,\n",
    "            skip_projection_channels=list(encoder_skip_projection_channels) if self.use_skip_connections else []\n",
    "        )\n",
    "\n",
    "        self.decoder = VoxelDecoder(\n",
    "            grid_size=grid_size,\n",
    "            in_encoder_channels=encoder_projected_main_channels,\n",
    "            start_3d_channels=decoder_start_3d_channels,\n",
    "            start_3d_depth=decoder_start_3d_depth,\n",
    "            skip_channels_from_encoder=list(encoder_skip_projection_channels) if self.use_skip_connections else None,\n",
    "            decoder_skip_proj_channels=list(decoder_projection_channels_for_skips) if self.use_skip_connections else None,\n",
    "            dropout_p_decoder=decoder_dropout_p\n",
    "        )\n",
    "\n",
    "    def forward(self, x):\n",
    "        if self.use_skip_connections:\n",
    "            main_features, skip_features_list = self.encoder(x)\n",
    "            output_logits = self.decoder(main_features, skip_features_list)\n",
    "        else:\n",
    "            main_features = self.encoder(x)\n",
    "            output_logits = self.decoder(main_features, skip_features_list=None)\n",
    "        return output_logits"
   ]
  },
  {
   "cell_type": "code",
   "execution_count": 20,
   "metadata": {
    "execution": {
     "iopub.execute_input": "2025-05-15T17:31:01.863477Z",
     "iopub.status.busy": "2025-05-15T17:31:01.861429Z",
     "iopub.status.idle": "2025-05-15T17:31:01.887335Z",
     "shell.execute_reply": "2025-05-15T17:31:01.885956Z",
     "shell.execute_reply.started": "2025-05-15T17:31:01.863382Z"
    },
    "tags": []
   },
   "outputs": [],
   "source": [
    "def iou(pred, target, threshold=0.5, smooth=1e-6):\n",
    "    pred_bin = (torch.sigmoid(pred) > threshold).float()\n",
    "    target_bin = (target > threshold).float()\n",
    "    \n",
    "    intersection = (pred_bin * target_bin).sum(dim=(1,2,3))\n",
    "    union = pred_bin.sum(dim=(1,2,3)) + target_bin.sum(dim=(1,2,3)) - intersection\n",
    "    \n",
    "    iou = (intersection + smooth) / (union + smooth)\n",
    "    return iou.mean()"
   ]
  },
  {
   "cell_type": "code",
   "execution_count": null,
   "metadata": {
    "execution": {
     "iopub.execute_input": "2025-05-15T17:31:03.969809Z",
     "iopub.status.busy": "2025-05-15T17:31:03.968602Z",
     "iopub.status.idle": "2025-05-15T17:31:04.033871Z",
     "shell.execute_reply": "2025-05-15T17:31:04.031951Z",
     "shell.execute_reply.started": "2025-05-15T17:31:03.969754Z"
    },
    "tags": []
   },
   "outputs": [],
   "source": [
    "class ComboLoss(nn.Module):\n",
    "    def __init__(self, weight_dice=0.5, focal_gamma=2.0, \n",
    "                 focal_alpha_balancing=None,\n",
    "                 smooth_dice=1e-6):\n",
    "        super().__init__()\n",
    "        self.weight_dice = weight_dice\n",
    "        self.weight_focal = 1.0 - weight_dice\n",
    "        self.focal_gamma = focal_gamma\n",
    "        self.focal_alpha_balancing = focal_alpha_balancing\n",
    "        self.smooth_dice = smooth_dice\n",
    "\n",
    "    def _dice_loss_from_logits(self, logits, targets_binary_float):\n",
    "        probs = torch.sigmoid(logits)\n",
    "        if probs.dim() > 2:\n",
    "            probs_flat = probs.view(probs.size(0), -1)\n",
    "            targets_flat = targets_binary_float.view(targets_binary_float.size(0), -1)\n",
    "        else:\n",
    "            probs_flat = probs\n",
    "            targets_flat = targets_binary_float\n",
    "            \n",
    "        intersection = (probs_flat * targets_flat).sum(dim=1)\n",
    "        denominator = probs_flat.sum(dim=1) + targets_flat.sum(dim=1)\n",
    "        dice_score_per_sample = (2. * intersection + self.smooth_dice) / (denominator + self.smooth_dice)\n",
    "        return 1. - dice_score_per_sample\n",
    "\n",
    "    def _focal_loss_from_logits(self, logits, targets_binary_float):\n",
    "        bce_loss_elements = F.binary_cross_entropy_with_logits(\n",
    "            logits, targets_binary_float, reduction='none' \n",
    "        )\n",
    "        probs = torch.sigmoid(logits)\n",
    "        p_t = probs * targets_binary_float + (1 - probs) * (1 - targets_binary_float)\n",
    "        \n",
    "        focal_modulator = (1 - p_t) ** self.focal_gamma\n",
    "        \n",
    "        loss_elements = focal_modulator * bce_loss_elements\n",
    "\n",
    "        if self.focal_alpha_balancing is not None:\n",
    "            alpha_t = self.focal_alpha_balancing * targets_binary_float + \\\n",
    "                      (1 - self.focal_alpha_balancing) * (1 - targets_binary_float)\n",
    "            loss_elements = alpha_t * loss_elements\n",
    "        \n",
    "        return loss_elements.mean()\n",
    "\n",
    "    def forward(self, pred_logits, targets):\n",
    "        targets_float = targets.float()\n",
    "\n",
    "        dice_loss_val = self._dice_loss_from_logits(pred_logits, targets_float).mean() \n",
    "        focal_loss_val = self._focal_loss_from_logits(pred_logits, targets_float)\n",
    "        \n",
    "        combined_loss = self.weight_dice * dice_loss_val + self.weight_focal * focal_loss_val\n",
    "        return combined_loss"
   ]
  },
  {
   "cell_type": "code",
   "execution_count": null,
   "metadata": {
    "execution": {
     "iopub.execute_input": "2025-05-15T17:46:39.572171Z",
     "iopub.status.busy": "2025-05-15T17:46:39.569985Z",
     "iopub.status.idle": "2025-05-15T17:46:50.523362Z",
     "shell.execute_reply": "2025-05-15T17:46:50.521623Z",
     "shell.execute_reply.started": "2025-05-15T17:46:39.572091Z"
    },
    "tags": []
   },
   "outputs": [],
   "source": [
    "\n",
    "device = torch.device('cuda' if torch.cuda.is_available() else 'cpu')\n",
    "\n",
    "model = AdvancedVoxelNet(\n",
    "    grid_size=32, \n",
    "    use_skip_connections=True\n",
    ").to(device)\n",
    "\n",
    "optimizer = torch.optim.AdamW(\n",
    "    model.parameters(), \n",
    "    lr=1e-3, \n",
    "    weight_decay=0.01\n",
    ")\n",
    "\n",
    "scheduler = torch.optim.lr_scheduler.ReduceLROnPlateau(\n",
    "    optimizer,\n",
    "    mode='min', \n",
    "    factor=0.5,\n",
    "    patience=3, \n",
    "    verbose=True,\n",
    "    min_lr=1e-7\n",
    ")\n",
    "\n",
    "criterion = ComboLoss(\n",
    "    weight_dice=0.5,\n",
    "    focal_gamma=2.0,\n",
    "    focal_alpha_balancing=0.25 \n",
    ").to(device)"
   ]
  },
  {
   "cell_type": "code",
   "execution_count": 28,
   "metadata": {
    "execution": {
     "iopub.execute_input": "2025-05-15T17:46:50.527675Z",
     "iopub.status.busy": "2025-05-15T17:46:50.525950Z",
     "iopub.status.idle": "2025-05-15T17:46:50.555212Z",
     "shell.execute_reply": "2025-05-15T17:46:50.553758Z",
     "shell.execute_reply.started": "2025-05-15T17:46:50.527627Z"
    },
    "tags": []
   },
   "outputs": [
    {
     "data": {
      "text/plain": [
       "VoxelDecoder(\n",
       "  (prepare_3d): Sequential(\n",
       "    (0): Conv2d(1024, 1024, kernel_size=(3, 3), stride=(2, 2), padding=(1, 1), bias=False)\n",
       "    (1): BatchNorm2d(1024, eps=1e-05, momentum=0.1, affine=True, track_running_stats=True)\n",
       "    (2): ReLU(inplace=True)\n",
       "  )\n",
       "  (up_blocks): ModuleList(\n",
       "    (0): ResidualUpsampleBlock(\n",
       "      (conv): Sequential(\n",
       "        (0): ConvTranspose3d(384, 128, kernel_size=(4, 4, 4), stride=(2, 2, 2), padding=(1, 1, 1), bias=False)\n",
       "        (1): BatchNorm3d(128, eps=1e-05, momentum=0.1, affine=True, track_running_stats=True)\n",
       "        (2): ReLU(inplace=True)\n",
       "        (3): Dropout3d(p=0.1, inplace=False)\n",
       "        (4): Conv3d(128, 128, kernel_size=(3, 3, 3), stride=(1, 1, 1), padding=(1, 1, 1), bias=False)\n",
       "        (5): BatchNorm3d(128, eps=1e-05, momentum=0.1, affine=True, track_running_stats=True)\n",
       "      )\n",
       "      (shortcut): ConvTranspose3d(384, 128, kernel_size=(4, 4, 4), stride=(2, 2, 2), padding=(1, 1, 1), bias=False)\n",
       "    )\n",
       "    (1): ResidualUpsampleBlock(\n",
       "      (conv): Sequential(\n",
       "        (0): ConvTranspose3d(192, 64, kernel_size=(4, 4, 4), stride=(2, 2, 2), padding=(1, 1, 1), bias=False)\n",
       "        (1): BatchNorm3d(64, eps=1e-05, momentum=0.1, affine=True, track_running_stats=True)\n",
       "        (2): ReLU(inplace=True)\n",
       "        (3): Dropout3d(p=0.1, inplace=False)\n",
       "        (4): Conv3d(64, 64, kernel_size=(3, 3, 3), stride=(1, 1, 1), padding=(1, 1, 1), bias=False)\n",
       "        (5): BatchNorm3d(64, eps=1e-05, momentum=0.1, affine=True, track_running_stats=True)\n",
       "      )\n",
       "      (shortcut): ConvTranspose3d(192, 64, kernel_size=(4, 4, 4), stride=(2, 2, 2), padding=(1, 1, 1), bias=False)\n",
       "    )\n",
       "    (2): ResidualUpsampleBlock(\n",
       "      (conv): Sequential(\n",
       "        (0): ConvTranspose3d(96, 32, kernel_size=(4, 4, 4), stride=(2, 2, 2), padding=(1, 1, 1), bias=False)\n",
       "        (1): BatchNorm3d(32, eps=1e-05, momentum=0.1, affine=True, track_running_stats=True)\n",
       "        (2): ReLU(inplace=True)\n",
       "        (3): Dropout3d(p=0.1, inplace=False)\n",
       "        (4): Conv3d(32, 32, kernel_size=(3, 3, 3), stride=(1, 1, 1), padding=(1, 1, 1), bias=False)\n",
       "        (5): BatchNorm3d(32, eps=1e-05, momentum=0.1, affine=True, track_running_stats=True)\n",
       "      )\n",
       "      (shortcut): ConvTranspose3d(96, 32, kernel_size=(4, 4, 4), stride=(2, 2, 2), padding=(1, 1, 1), bias=False)\n",
       "    )\n",
       "  )\n",
       "  (skip_projs_decoder): ModuleList(\n",
       "    (0): Conv2d(256, 128, kernel_size=(1, 1), stride=(1, 1))\n",
       "    (1): Conv2d(128, 64, kernel_size=(1, 1), stride=(1, 1))\n",
       "    (2): Conv2d(64, 32, kernel_size=(1, 1), stride=(1, 1))\n",
       "  )\n",
       "  (final_conv): Sequential(\n",
       "    (0): Conv3d(32, 16, kernel_size=(3, 3, 3), stride=(1, 1, 1), padding=(1, 1, 1), bias=False)\n",
       "    (1): BatchNorm3d(16, eps=1e-05, momentum=0.1, affine=True, track_running_stats=True)\n",
       "    (2): ReLU(inplace=True)\n",
       "    (3): Conv3d(16, 1, kernel_size=(1, 1, 1), stride=(1, 1, 1))\n",
       "  )\n",
       ")"
      ]
     },
     "execution_count": 28,
     "metadata": {},
     "output_type": "execute_result"
    }
   ],
   "source": [
    "# Инициализация весов\n",
    "def init_weights(m):\n",
    "    if isinstance(m, nn.Conv2d) or isinstance(m, nn.Conv3d) or isinstance(m, nn.Linear):\n",
    "        nn.init.kaiming_normal_(m.weight, mode='fan_out', nonlinearity='relu')\n",
    "        if m.bias is not None:\n",
    "            nn.init.constant_(m.bias, 0)\n",
    "    elif isinstance(m, nn.BatchNorm2d) or isinstance(m, nn.BatchNorm3d):\n",
    "        nn.init.constant_(m.weight, 1)\n",
    "        nn.init.constant_(m.bias, 0)\n",
    "\n",
    "model.decoder.apply(init_weights)"
   ]
  },
  {
   "cell_type": "code",
   "execution_count": 29,
   "metadata": {
    "execution": {
     "iopub.execute_input": "2025-05-15T17:46:50.559446Z",
     "iopub.status.busy": "2025-05-15T17:46:50.557586Z",
     "iopub.status.idle": "2025-05-15T17:46:50.599574Z",
     "shell.execute_reply": "2025-05-15T17:46:50.598293Z",
     "shell.execute_reply.started": "2025-05-15T17:46:50.559364Z"
    },
    "tags": []
   },
   "outputs": [],
   "source": [
    "def fit_epoch(model, criterion, optimizer, train_loader, device):\n",
    "    model.train()\n",
    "    total_loss = 0.0\n",
    "    total_iou = 0.0\n",
    "    total_samples = 0\n",
    "    \n",
    "    for images, voxels, _ in train_loader:\n",
    "        images = images.to(device)\n",
    "        targets = voxels.to(device).unsqueeze(1)\n",
    "        \n",
    "        optimizer.zero_grad()\n",
    "        outputs = model(images)\n",
    "        \n",
    "        loss = criterion(outputs, targets)\n",
    "        loss.backward()\n",
    "        optimizer.step()\n",
    "        \n",
    "        batch_size = images.size(0)\n",
    "        total_loss += loss.item() * batch_size\n",
    "        total_iou += iou(outputs, targets) * batch_size\n",
    "        total_samples += batch_size\n",
    "    \n",
    "    return total_loss / total_samples, total_iou / total_samples\n",
    "\n",
    "def val_epoch(model, criterion, val_loader, device):\n",
    "    model.eval()\n",
    "    total_loss = 0.0\n",
    "    total_iou = 0.0\n",
    "    total_samples = 0\n",
    "    \n",
    "    with torch.no_grad():\n",
    "        for images, voxels, _ in val_loader:\n",
    "            images = images.to(device)\n",
    "            targets = voxels.to(device).unsqueeze(1)\n",
    "            \n",
    "            outputs = model(images)\n",
    "            total_loss += criterion(outputs, targets).item() * images.size(0)\n",
    "            total_iou += iou(outputs, targets) * images.size(0)\n",
    "            total_samples += images.size(0)\n",
    "    \n",
    "    return total_loss / total_samples, total_iou / total_samples"
   ]
  },
  {
   "cell_type": "code",
   "execution_count": 30,
   "metadata": {
    "execution": {
     "iopub.execute_input": "2025-05-15T17:46:50.603382Z",
     "iopub.status.busy": "2025-05-15T17:46:50.602089Z",
     "iopub.status.idle": "2025-05-15T17:53:57.621109Z",
     "shell.execute_reply": "2025-05-15T17:53:57.619182Z",
     "shell.execute_reply.started": "2025-05-15T17:46:50.603326Z"
    },
    "tags": []
   },
   "outputs": [
    {
     "name": "stdout",
     "output_type": "stream",
     "text": [
      "Начинаем обучение...\n"
     ]
    },
    {
     "name": "stderr",
     "output_type": "stream",
     "text": [
      "Обучение:   7%|▋         | 1/15 [00:34<08:06, 34.75s/it]"
     ]
    },
    {
     "name": "stdout",
     "output_type": "stream",
     "text": [
      "\n",
      "Epoch 1/15:\n",
      "  Train: Loss 0.5747 | IoU 0.0328\n",
      "  Val:   Loss 0.5033 | IoU 0.0218\n",
      "  LR: 1.00e-03\n"
     ]
    },
    {
     "name": "stderr",
     "output_type": "stream",
     "text": [
      "Обучение:  13%|█▎        | 2/15 [01:09<07:30, 34.65s/it]"
     ]
    },
    {
     "name": "stdout",
     "output_type": "stream",
     "text": [
      "\n",
      "Epoch 2/15:\n",
      "  Train: Loss 0.4649 | IoU 0.0986\n",
      "  Val:   Loss 0.4540 | IoU 0.0517\n",
      "  LR: 1.00e-03\n"
     ]
    },
    {
     "name": "stderr",
     "output_type": "stream",
     "text": [
      "Обучение:  20%|██        | 3/15 [01:43<06:54, 34.57s/it]"
     ]
    },
    {
     "name": "stdout",
     "output_type": "stream",
     "text": [
      "\n",
      "Epoch 3/15:\n",
      "  Train: Loss 0.4486 | IoU 0.1342\n",
      "  Val:   Loss 0.4491 | IoU 0.1207\n",
      "  LR: 1.00e-03\n"
     ]
    },
    {
     "name": "stderr",
     "output_type": "stream",
     "text": [
      "Обучение:  27%|██▋       | 4/15 [02:17<06:18, 34.42s/it]"
     ]
    },
    {
     "name": "stdout",
     "output_type": "stream",
     "text": [
      "\n",
      "Epoch 4/15:\n",
      "  Train: Loss 0.4100 | IoU 0.3937\n",
      "  Val:   Loss 0.3988 | IoU 0.3991\n",
      "  LR: 1.00e-03\n"
     ]
    },
    {
     "name": "stderr",
     "output_type": "stream",
     "text": [
      "Обучение:  33%|███▎      | 5/15 [02:52<05:44, 34.41s/it]"
     ]
    },
    {
     "name": "stdout",
     "output_type": "stream",
     "text": [
      "\n",
      "Epoch 5/15:\n",
      "  Train: Loss 0.3771 | IoU 0.5581\n",
      "  Val:   Loss 0.3923 | IoU 0.6255\n",
      "  LR: 1.00e-03\n"
     ]
    },
    {
     "name": "stderr",
     "output_type": "stream",
     "text": [
      "Обучение:  40%|████      | 6/15 [03:26<05:09, 34.39s/it]"
     ]
    },
    {
     "name": "stdout",
     "output_type": "stream",
     "text": [
      "\n",
      "Epoch 6/15:\n",
      "  Train: Loss 0.3626 | IoU 0.5910\n",
      "  Val:   Loss 0.3783 | IoU 0.6356\n",
      "  LR: 1.00e-03\n"
     ]
    },
    {
     "name": "stderr",
     "output_type": "stream",
     "text": [
      "Обучение:  47%|████▋     | 7/15 [03:48<04:02, 30.28s/it]"
     ]
    },
    {
     "name": "stdout",
     "output_type": "stream",
     "text": [
      "\n",
      "Epoch 7/15:\n",
      "  Train: Loss 0.3540 | IoU 0.6112\n",
      "  Val:   Loss 0.3719 | IoU 0.6194\n",
      "  LR: 1.00e-03\n"
     ]
    },
    {
     "name": "stderr",
     "output_type": "stream",
     "text": [
      "Обучение:  53%|█████▎    | 8/15 [04:22<03:41, 31.58s/it]"
     ]
    },
    {
     "name": "stdout",
     "output_type": "stream",
     "text": [
      "\n",
      "Epoch 8/15:\n",
      "  Train: Loss 0.3496 | IoU 0.6102\n",
      "  Val:   Loss 0.3945 | IoU 0.6442\n",
      "  LR: 1.00e-03\n"
     ]
    },
    {
     "name": "stderr",
     "output_type": "stream",
     "text": [
      "Обучение:  60%|██████    | 9/15 [04:57<03:14, 32.46s/it]"
     ]
    },
    {
     "name": "stdout",
     "output_type": "stream",
     "text": [
      "\n",
      "Epoch 9/15:\n",
      "  Train: Loss 0.3424 | IoU 0.6165\n",
      "  Val:   Loss 0.3910 | IoU 0.6483\n",
      "  LR: 1.00e-03\n"
     ]
    },
    {
     "name": "stderr",
     "output_type": "stream",
     "text": [
      "Обучение:  67%|██████▋   | 10/15 [05:19<02:25, 29.19s/it]"
     ]
    },
    {
     "name": "stdout",
     "output_type": "stream",
     "text": [
      "\n",
      "Epoch 10/15:\n",
      "  Train: Loss 0.3391 | IoU 0.6253\n",
      "  Val:   Loss 0.3678 | IoU 0.6218\n",
      "  LR: 1.00e-03\n"
     ]
    },
    {
     "name": "stderr",
     "output_type": "stream",
     "text": [
      "Обучение:  73%|███████▎  | 11/15 [05:40<01:47, 26.88s/it]"
     ]
    },
    {
     "name": "stdout",
     "output_type": "stream",
     "text": [
      "\n",
      "Epoch 11/15:\n",
      "  Train: Loss 0.3326 | IoU 0.6149\n",
      "  Val:   Loss 0.3856 | IoU 0.6465\n",
      "  LR: 1.00e-03\n"
     ]
    },
    {
     "name": "stderr",
     "output_type": "stream",
     "text": [
      "Обучение:  80%|████████  | 12/15 [06:02<01:15, 25.28s/it]"
     ]
    },
    {
     "name": "stdout",
     "output_type": "stream",
     "text": [
      "\n",
      "Epoch 12/15:\n",
      "  Train: Loss 0.3260 | IoU 0.6223\n",
      "  Val:   Loss 0.3884 | IoU 0.6396\n",
      "  LR: 1.00e-03\n"
     ]
    },
    {
     "name": "stderr",
     "output_type": "stream",
     "text": [
      "Обучение:  87%|████████▋ | 13/15 [06:23<00:48, 24.11s/it]"
     ]
    },
    {
     "name": "stdout",
     "output_type": "stream",
     "text": [
      "\n",
      "Epoch 13/15:\n",
      "  Train: Loss 0.3231 | IoU 0.6382\n",
      "  Val:   Loss 0.4194 | IoU 0.6353\n",
      "  LR: 1.00e-03\n"
     ]
    },
    {
     "name": "stderr",
     "output_type": "stream",
     "text": [
      "Обучение:  93%|█████████▎| 14/15 [06:45<00:23, 23.29s/it]"
     ]
    },
    {
     "name": "stdout",
     "output_type": "stream",
     "text": [
      "Epoch 00014: reducing learning rate of group 0 to 5.0000e-04.\n",
      "\n",
      "Epoch 14/15:\n",
      "  Train: Loss 0.3137 | IoU 0.6420\n",
      "  Val:   Loss 0.3927 | IoU 0.6437\n",
      "  LR: 5.00e-04\n"
     ]
    },
    {
     "name": "stderr",
     "output_type": "stream",
     "text": [
      "Обучение: 100%|██████████| 15/15 [07:06<00:00, 28.44s/it]"
     ]
    },
    {
     "name": "stdout",
     "output_type": "stream",
     "text": [
      "\n",
      "Epoch 15/15:\n",
      "  Train: Loss 0.3005 | IoU 0.6574\n",
      "  Val:   Loss 0.4046 | IoU 0.6413\n",
      "  LR: 5.00e-04\n"
     ]
    },
    {
     "name": "stderr",
     "output_type": "stream",
     "text": [
      "\n"
     ]
    },
    {
     "data": {
      "image/png": "[encoded data removed]",
      "text/plain": [
       "<Figure size 1500x500 with 1 Axes>"
      ]
     },
     "metadata": {},
     "output_type": "display_data"
    }
   ],
   "source": [
    "epochs = 15\n",
    "patience = 15\n",
    "best_val_iou = 0.0\n",
    "no_improve = 0\n",
    "\n",
    "history = {\n",
    "    'train_loss': [],\n",
    "    'val_loss': [],\n",
    "    'train_iou': [],\n",
    "    'val_iou': [],\n",
    "    'lr': []\n",
    "}\n",
    "\n",
    "\n",
    "print(\"Начинаем обучение...\")\n",
    "best_iou = 0.0\n",
    "\n",
    "for epoch in tqdm(range(epochs), desc=\"Обучение\"):\n",
    "    model.train()\n",
    "    train_loss, train_iou = fit_epoch(model, criterion, optimizer, train_loader, device)\n",
    "    \n",
    "    model.eval()\n",
    "    val_loss, val_iou = val_epoch(model, criterion, val_loader, device)\n",
    "        \n",
    "    scheduler.step(val_loss)\n",
    "    \n",
    "    if val_iou > best_iou + 0.001:\n",
    "        best_iou = val_iou\n",
    "        no_improve = 0\n",
    "        torch.save(model.state_dict(), 'best_model.pth')\n",
    "    else:\n",
    "        no_improve += 1\n",
    "        \n",
    "    if no_improve >= patience:\n",
    "        print(f\"Early stopping (Best IoU: {best_iou:.4f})\")\n",
    "        break\n",
    "\n",
    "    history['train_loss'].append(train_loss)\n",
    "    history['val_loss'].append(val_loss)\n",
    "    history['train_iou'].append(train_iou)\n",
    "    history['val_iou'].append(val_iou)\n",
    "    history['lr'].append(optimizer.param_groups[0]['lr'])\n",
    "    \n",
    "    print(f\"\\nEpoch {epoch+1}/{epochs}:\")\n",
    "    print(f\"  Train: Loss {train_loss:.4f} | IoU {train_iou:.4f}\")\n",
    "    print(f\"  Val:   Loss {val_loss:.4f} | IoU {val_iou:.4f}\")\n",
    "    print(f\"  LR: {optimizer.param_groups[0]['lr']:.2e}\")\n",
    "\n",
    "def plot_training_history(history):\n",
    "    plt.figure(figsize=(15, 5))\n",
    "    \n",
    "    plt.subplot(1, 2, 1)\n",
    "    plt.plot(history['train_loss'], label='Train Loss')\n",
    "    plt.plot(history['val_loss'], label='Validation Loss')\n",
    "    plt.xlabel('Epochs')\n",
    "    plt.ylabel('Loss')\n",
    "    plt.title('Training and Validation Loss')\n",
    "    plt.legend()\n",
    "    plt.grid(True)\n",
    "\n",
    "plot_training_history(history)"
   ]
  },
  {
   "cell_type": "code",
   "execution_count": null,
   "metadata": {
    "execution": {
     "iopub.execute_input": "2025-05-15T17:54:04.664484Z",
     "iopub.status.busy": "2025-05-15T17:54:04.663049Z",
     "iopub.status.idle": "2025-05-15T17:54:04.687092Z",
     "shell.execute_reply": "2025-05-15T17:54:04.685675Z",
     "shell.execute_reply.started": "2025-05-15T17:54:04.664391Z"
    },
    "tags": []
   },
   "outputs": [],
   "source": [
    "def save_3d_prediction(voxels, output_dir, sample_id, threshold=None):\n",
    "    \"\"\"Сохраняет предсказанные воксели как 3D модель с автоматическим определением порога\"\"\"\n",
    "    os.makedirs(output_dir, exist_ok=True)\n",
    "    \n",
    "    if threshold is None:\n",
    "        threshold = np.percentile(voxels, 95)\n",
    "        print(f\"Выбранный threshold: {threshold:.3f}\")\n",
    "    \n",
    "    vmin, vmax = voxels.min(), voxels.max()\n",
    "    if threshold < vmin or threshold > vmax:\n",
    "        threshold = (vmin + vmax) / 2  # Среднее значение если порог вне диапазона\n",
    "        print(f\" threshold изменен {threshold:.3f} (range:  {vmin:.3f}-{vmax:.3f})\")\n",
    "    \n",
    "    try:\n",
    "        vertices, faces, _, _ = marching_cubes(voxels, level=threshold)\n",
    "        mesh = o3d.geometry.TriangleMesh()\n",
    "        mesh.vertices = o3d.utility.Vector3dVector(vertices)\n",
    "        mesh.triangles = o3d.utility.Vector3iVector(faces)\n",
    "        \n",
    "        mesh.compute_vertex_normals()\n",
    "        mesh = mesh.filter_smooth_taubin(number_of_iterations=5)\n",
    "        \n",
    "        ply_path = os.path.join(output_dir, f\"pred_{sample_id}.ply\")\n",
    "        o3d.io.write_triangle_mesh(ply_path, mesh)\n",
    "        print(f\"Saved 3D prediction to {ply_path}\")\n",
    "        \n",
    "    except Exception as e:\n",
    "        print(f\"Failed to create 3D model for sample {sample_id}: {str(e)}\")\n",
    "        np.save(os.path.join(output_dir, f\"raw_voxels_{sample_id}.npy\"), voxels)"
   ]
  },
  {
   "cell_type": "code",
   "execution_count": 32,
   "metadata": {
    "execution": {
     "iopub.execute_input": "2025-05-15T17:54:05.580216Z",
     "iopub.status.busy": "2025-05-15T17:54:05.578411Z",
     "iopub.status.idle": "2025-05-15T17:54:05.631576Z",
     "shell.execute_reply": "2025-05-15T17:54:05.629726Z",
     "shell.execute_reply.started": "2025-05-15T17:54:05.580123Z"
    },
    "tags": []
   },
   "outputs": [],
   "source": [
    "def visualize_predictions(model, val_loader, num_samples=5, output_dir=\"predictions\", device=None):\n",
    "    \"\"\"Визуализация и сохранение предсказаний модели с улучшенной обработкой\"\"\"\n",
    "    print(\"\\n--- Визуализация результатов модели ---\")\n",
    "    \n",
    "    if device is None:\n",
    "        device = next(model.parameters()).device\n",
    "    \n",
    "    os.makedirs(output_dir, exist_ok=True)\n",
    "    model.eval()\n",
    "    \n",
    "    visualized_samples = 0\n",
    "    \n",
    "    with torch.no_grad():\n",
    "        for batch in tqdm(val_loader, desc=\"Processing samples\"):\n",
    "            if visualized_samples >= num_samples:\n",
    "                break\n",
    "                \n",
    "            images = batch[0].to(device)\n",
    "            pred_voxels = model(images).squeeze(1).cpu().numpy()\n",
    "            \n",
    "            for i in range(len(images)):\n",
    "                sample_id = visualized_samples + 1\n",
    "                img = images[i].squeeze().cpu().numpy()\n",
    "                pred = pred_voxels[i]\n",
    "                \n",
    "                fig, (ax1, ax2) = plt.subplots(1, 2, figsize=(12, 6))\n",
    "                \n",
    "                ax1.imshow(img, cmap='gray')\n",
    "                ax1.set_title(f\"Input Image {sample_id}\")\n",
    "                ax1.axis('off')\n",
    "                \n",
    "                mid_slice = pred.shape[0] // 2\n",
    "                im = ax2.imshow(pred[mid_slice], cmap='viridis')\n",
    "                ax2.set_title(f\"Prediction Slice (min: {pred.min():.2f}, max: {pred.max():.2f})\")\n",
    "                fig.colorbar(im, ax=ax2)\n",
    "                ax2.axis('off')\n",
    "                \n",
    "                plt.tight_layout()\n",
    "                plt.show()\n",
    "                \n",
    "                save_3d_prediction(pred, output_dir, sample_id)\n",
    "                \n",
    "                visualized_samples += 1\n",
    "                if visualized_samples >= num_samples:\n",
    "                    break\n",
    "    \n",
    "    print(f\"\\nВизуализация завершена. Сохранено {visualized_samples} примеров в {output_dir}\")"
   ]
  },
  {
   "cell_type": "code",
   "execution_count": 33,
   "metadata": {
    "execution": {
     "iopub.execute_input": "2025-05-15T17:54:06.143476Z",
     "iopub.status.busy": "2025-05-15T17:54:06.140992Z",
     "iopub.status.idle": "2025-05-15T17:54:10.185238Z",
     "shell.execute_reply": "2025-05-15T17:54:10.183341Z",
     "shell.execute_reply.started": "2025-05-15T17:54:06.143385Z"
    },
    "tags": []
   },
   "outputs": [
    {
     "name": "stdout",
     "output_type": "stream",
     "text": [
      "\n",
      "--- Визуализация результатов модели ---\n"
     ]
    },
    {
     "name": "stderr",
     "output_type": "stream",
     "text": [
      "Processing samples:   0%|          | 0/4 [00:00<?, ?it/s]"
     ]
    },
    {
     "data": {
      "image/png": "[encoded data removed]",
      "text/plain": [
       "<Figure size 1200x600 with 3 Axes>"
      ]
     },
     "metadata": {},
     "output_type": "display_data"
    },
    {
     "name": "stdout",
     "output_type": "stream",
     "text": [
      "Auto-selected threshold: -5.059\n",
      "Saved 3D prediction to predictions/pred_1.ply\n"
     ]
    },
    {
     "data": {
      "image/png": "[encoded data removed]",
      "text/plain": [
       "<Figure size 1200x600 with 3 Axes>"
      ]
     },
     "metadata": {},
     "output_type": "display_data"
    },
    {
     "name": "stdout",
     "output_type": "stream",
     "text": [
      "Auto-selected threshold: -4.921\n",
      "Saved 3D prediction to predictions/pred_2.ply\n"
     ]
    },
    {
     "data": {
      "image/png": "[encoded data removed]",
      "text/plain": [
       "<Figure size 1200x600 with 3 Axes>"
      ]
     },
     "metadata": {},
     "output_type": "display_data"
    },
    {
     "name": "stderr",
     "output_type": "stream",
     "text": [
      "Processing samples:  25%|██▌       | 1/4 [00:02<00:08,  2.92s/it]"
     ]
    },
    {
     "name": "stdout",
     "output_type": "stream",
     "text": [
      "Auto-selected threshold: -5.311\n",
      "Saved 3D prediction to predictions/pred_3.ply\n"
     ]
    },
    {
     "name": "stderr",
     "output_type": "stream",
     "text": [
      "Processing samples:  25%|██▌       | 1/4 [00:03<00:11,  3.95s/it]"
     ]
    },
    {
     "name": "stdout",
     "output_type": "stream",
     "text": [
      "\n",
      "Визуализация завершена. Сохранено 3 примеров в predictions\n"
     ]
    },
    {
     "name": "stderr",
     "output_type": "stream",
     "text": [
      "\n"
     ]
    }
   ],
   "source": [
    "visualize_predictions(\n",
    "    model=model,\n",
    "    val_loader=val_loader,\n",
    "    num_samples=3,\n",
    "    output_dir=\"predictions\",\n",
    "    device=\"cuda\"\n",
    ")"
   ]
  },
  {
   "cell_type": "code",
   "execution_count": null,
   "metadata": {},
   "outputs": [],
   "source": []
  }
 ],
 "metadata": {
  "kaggle": {
   "accelerator": "nvidiaTeslaT4",
   "dataSources": [
    {
     "datasetId": 7286534,
     "sourceId": 11616698,
     "sourceType": "datasetVersion"
    }
   ],
   "dockerImageVersionId": 31011,
   "isGpuEnabled": true,
   "isInternetEnabled": true,
   "language": "python",
   "sourceType": "notebook"
  },
  "kernelspec": {
   "display_name": "DataSphere Kernel",
   "language": "python",
   "name": "python3"
  },
  "language_info": {
   "codemirror_mode": {
    "name": "ipython",
    "version": 3
   },
   "file_extension": ".py",
   "mimetype": "text/x-python",
   "name": "python",
   "nbconvert_exporter": "python",
   "pygments_lexer": "ipython3",
   "version": "3.10.12"
  }
 },
 "nbformat": 4,
 "nbformat_minor": 4
}
